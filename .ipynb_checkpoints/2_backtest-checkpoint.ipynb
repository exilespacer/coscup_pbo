{
 "cells": [
  {
   "cell_type": "markdown",
   "metadata": {
    "slideshow": {
     "slide_type": "slide"
    }
   },
   "source": [
    "# 來聊聊「歷史回測」吧!\n",
    "<img src=\"fig/performance.bmp\" height=430>\n",
    "* reference: http://www.thertrader.com/2013/10/18/trading-strategies-performance-reporting-with-r-and-knitr/"
   ]
  },
  {
   "cell_type": "markdown",
   "metadata": {
    "slideshow": {
     "slide_type": "slide"
    }
   },
   "source": [
    "# 投資界中的 Test-Driven Development: 歷史回測\n",
    "\n",
    "* 使用歷史價格來驗證投資策略的表現\n",
    "* 也就是說，先拿歷史資料試試水溫，確定這個策略可以挺過以前的大風大浪"
   ]
  },
  {
   "cell_type": "markdown",
   "metadata": {
    "slideshow": {
     "slide_type": "slide"
    }
   },
   "source": [
    "# 通常回測關注哪些點？\n",
    "* 像是勝率、年化報酬率、獲利風險比、持有時間、交易次數\n",
    "* [R] <a href=\"http://www.rinfinance.com/RinFinance2009/presentations/PA%20Workshop%20Chi%20RFinance%202009-04.pdf\">performanceAnalytics</a>\n",
    "* <a href=\"http://www.thertrader.com/2013/10/18/trading-strategies-performance-reporting-with-r-and-knitr/\">自動產生回測報表</a>： R & Knitr\n",
    "<img src=\"fig/performance.bmp\" height=860>"
   ]
  },
  {
   "cell_type": "markdown",
   "metadata": {
    "slideshow": {
     "slide_type": "slide"
    }
   },
   "source": [
    "## 自從有了歷史回測，考試都考100分（？）"
   ]
  },
  {
   "cell_type": "markdown",
   "metadata": {
    "slideshow": {
     "slide_type": "slide"
    }
   },
   "source": [
    "# 歷史回測的限制\n",
    "    1. 歷史回測相信「歷史會不斷重現」，過去績效好不代表未來績效也會好\n",
    "    2. 無法捕捉交互作用，例如：market impact，想想看，如果你今天買進4萬張台積電，會不會影響台積電價格？"
   ]
  },
  {
   "cell_type": "markdown",
   "metadata": {
    "slideshow": {
     "slide_type": "slide"
    }
   },
   "source": [
    "# open source 回測工具\n",
    "* [Python] <a href=\"https://www.quantopian.com\">quantopian</a>\n",
    "<img src=\"fig/quantopian.png\" height=430>\n",
    "* reference: https://www.quantopian.com"
   ]
  },
  {
   "cell_type": "markdown",
   "metadata": {
    "slideshow": {
     "slide_type": "slide"
    }
   },
   "source": [
    "# open source 回測工具\n",
    "* [R] quantmod / quantstrat\n",
    "<img src=\"fig/quantmod.png\" height=430>\n",
    "* reference: 牧清華「<a href=\"http://www.bituzi.com/2014/12/Rbacktest6mins.html\">第一次使用R語言做回測：六分鐘，就上手!</a>」"
   ]
  },
  {
   "cell_type": "code",
   "execution_count": null,
   "metadata": {
    "collapsed": true
   },
   "outputs": [],
   "source": []
  }
 ],
 "metadata": {
  "celltoolbar": "Slideshow",
  "kernelspec": {
   "display_name": "R",
   "language": "R",
   "name": "ir"
  },
  "language_info": {
   "codemirror_mode": "r",
   "file_extension": ".r",
   "mimetype": "text/x-r-source",
   "name": "R",
   "pygments_lexer": "r",
   "version": "3.1.2"
  }
 },
 "nbformat": 4,
 "nbformat_minor": 0
}
