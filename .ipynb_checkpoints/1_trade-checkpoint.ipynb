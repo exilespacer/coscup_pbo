{
 "cells": [
  {
   "cell_type": "markdown",
   "metadata": {
    "slideshow": {
     "slide_type": "slide"
    }
   },
   "source": [
    "# 來聊聊「交易」吧！\n",
    "<img src=\"fig/trading.jpg\" height=430>\n",
    "* reference: https://commons.wikimedia.org/wiki/File:Forex.jpg"
   ]
  },
  {
   "cell_type": "markdown",
   "metadata": {
    "slideshow": {
     "slide_type": "slide"
    }
   },
   "source": [
    "# 從一個大家打開電視都會看到的辭彙開始好了..."
   ]
  },
  {
   "cell_type": "markdown",
   "metadata": {
    "slideshow": {
     "slide_type": "slide"
    }
   },
   "source": [
    "# 關於投顧老師常講的「技術分析」，你一定看過類似的畫面吧\n",
    "* 利用過去的歷史資料，透過圖表來預測價格趨勢\n",
    "<img src=\"fig/MAcross.jpg\" height=430>"
   ]
  },
  {
   "cell_type": "markdown",
   "metadata": {
    "slideshow": {
     "slide_type": "slide"
    }
   },
   "source": [
    "# 技術分析的美麗與哀愁\n",
    "* 尋找趨勢 (signal)，例如：MACD，以離散逼近連續\n",
    "* 看圖說故事？金融煉金術？市場噪音交易者？(noise)"
   ]
  },
  {
   "cell_type": "markdown",
   "metadata": {
    "slideshow": {
     "slide_type": "subslide"
    }
   },
   "source": [
    "# 從經濟學的供給關係來看 market behavior ?\n",
    "<img src=\"fig/MAcross.jpg\" height=600>"
   ]
  },
  {
   "cell_type": "markdown",
   "metadata": {
    "slideshow": {
     "slide_type": "slide"
    }
   },
   "source": [
    "# 那為什麼技術分析被視為不科學，如此惡名昭彰？\n",
    "* 科學是，大膽假設，小心驗證\n",
    "* 你，小心驗證了嗎？"
   ]
  },
  {
   "cell_type": "markdown",
   "metadata": {
    "slideshow": {
     "slide_type": "slide"
    }
   },
   "source": [
    "# 主觀交易與客觀交易的差異: 科學否？\n",
    "* 主觀交易，智慧的累積，一種類似手感的神祕能力XD \n",
    "* 客觀交易，清楚定義交易規則，透過科學的方式進行驗證，例如：回測"
   ]
  },
  {
   "cell_type": "markdown",
   "metadata": {},
   "source": [
    "補充說明：觀察 -> 假說 ->  預測 -> 驗證 -> 結論"
   ]
  },
  {
   "cell_type": "markdown",
   "metadata": {
    "slideshow": {
     "slide_type": "slide"
    }
   },
   "source": [
    "# 如果大家想看看交易系統的例子，這裡有些大大XD\n",
    "* 菲利浦大大 http://www.slideshare.net/philipzh/2-15362832\n",
    "* 高嘉良大大 http://www.slideshare.net/clkao/trading-with-open-source-tools-preview"
   ]
  },
  {
   "cell_type": "markdown",
   "metadata": {
    "slideshow": {
     "slide_type": "slide"
    }
   },
   "source": [
    "# 科學的客觀交易不容易: 舉例，你的價格資料從哪裡來？\n",
    "* 有錢的人用 Bloomberg / Reutors \n",
    "* 沒錢的人用 yahoo finance / google finance"
   ]
  },
  {
   "cell_type": "code",
   "execution_count": 3,
   "metadata": {
    "collapsed": false,
    "slideshow": {
     "slide_type": "-"
    }
   },
   "outputs": [
    {
     "data": {
      "text/html": [
       "<div style=\"max-height:1000px;max-width:1500px;overflow:auto;\">\n",
       "<table border=\"1\" class=\"dataframe\">\n",
       "  <thead>\n",
       "    <tr style=\"text-align: right;\">\n",
       "      <th></th>\n",
       "      <th>Open</th>\n",
       "      <th>High</th>\n",
       "      <th>Low</th>\n",
       "      <th>Close</th>\n",
       "      <th>Volume</th>\n",
       "      <th>Adj Close</th>\n",
       "    </tr>\n",
       "    <tr>\n",
       "      <th>Date</th>\n",
       "      <th></th>\n",
       "      <th></th>\n",
       "      <th></th>\n",
       "      <th></th>\n",
       "      <th></th>\n",
       "      <th></th>\n",
       "    </tr>\n",
       "  </thead>\n",
       "  <tbody>\n",
       "    <tr>\n",
       "      <th>2015-08-10</th>\n",
       "      <td> 131.0</td>\n",
       "      <td> 131.0</td>\n",
       "      <td> 125.5</td>\n",
       "      <td> 129.0</td>\n",
       "      <td> 63646000</td>\n",
       "      <td> 129.0</td>\n",
       "    </tr>\n",
       "    <tr>\n",
       "      <th>2015-08-11</th>\n",
       "      <td> 133.5</td>\n",
       "      <td> 133.5</td>\n",
       "      <td> 130.5</td>\n",
       "      <td> 130.5</td>\n",
       "      <td> 64344000</td>\n",
       "      <td> 130.5</td>\n",
       "    </tr>\n",
       "    <tr>\n",
       "      <th>2015-08-12</th>\n",
       "      <td> 129.5</td>\n",
       "      <td> 130.0</td>\n",
       "      <td> 127.5</td>\n",
       "      <td> 128.5</td>\n",
       "      <td> 41642000</td>\n",
       "      <td> 128.5</td>\n",
       "    </tr>\n",
       "    <tr>\n",
       "      <th>2015-08-13</th>\n",
       "      <td> 129.0</td>\n",
       "      <td> 130.0</td>\n",
       "      <td> 127.5</td>\n",
       "      <td> 128.0</td>\n",
       "      <td> 35943000</td>\n",
       "      <td> 128.0</td>\n",
       "    </tr>\n",
       "    <tr>\n",
       "      <th>2015-08-14</th>\n",
       "      <td> 128.0</td>\n",
       "      <td> 128.5</td>\n",
       "      <td> 125.0</td>\n",
       "      <td> 126.0</td>\n",
       "      <td> 39413000</td>\n",
       "      <td> 126.0</td>\n",
       "    </tr>\n",
       "  </tbody>\n",
       "</table>\n",
       "<p>5 rows × 6 columns</p>\n",
       "</div>"
      ],
      "text/plain": [
       "             Open   High    Low  Close    Volume  Adj Close\n",
       "Date                                                       \n",
       "2015-08-10  131.0  131.0  125.5  129.0  63646000      129.0\n",
       "2015-08-11  133.5  133.5  130.5  130.5  64344000      130.5\n",
       "2015-08-12  129.5  130.0  127.5  128.5  41642000      128.5\n",
       "2015-08-13  129.0  130.0  127.5  128.0  35943000      128.0\n",
       "2015-08-14  128.0  128.5  125.0  126.0  39413000      126.0\n",
       "\n",
       "[5 rows x 6 columns]"
      ]
     },
     "execution_count": 3,
     "metadata": {},
     "output_type": "execute_result"
    }
   ],
   "source": [
    "import pandas.io.data as web\n",
    "df = web.DataReader('2330.TW', data_source='yahoo')\n",
    "df.tail()"
   ]
  },
  {
   "cell_type": "markdown",
   "metadata": {
    "slideshow": {
     "slide_type": "slide"
    }
   },
   "source": [
    "# 小心 survival bias !"
   ]
  }
 ],
 "metadata": {
  "celltoolbar": "Slideshow",
  "kernelspec": {
   "display_name": "Python 2",
   "language": "python",
   "name": "python2"
  },
  "language_info": {
   "codemirror_mode": {
    "name": "ipython",
    "version": 2
   },
   "file_extension": ".py",
   "mimetype": "text/x-python",
   "name": "python",
   "nbconvert_exporter": "python",
   "pygments_lexer": "ipython2",
   "version": "2.7.6"
  }
 },
 "nbformat": 4,
 "nbformat_minor": 0
}
