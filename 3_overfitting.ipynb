{
 "cells": [
  {
   "cell_type": "markdown",
   "metadata": {
    "slideshow": {
     "slide_type": "slide"
    }
   },
   "source": [
    "#來聊聊「回測過度最佳化」吧！\n",
    "<img src=\"fig/overfitting_looklike.png\" width=860>\n",
    "reference: http://www.knewton.com/tech/blog/2014/09/online-cross-validation-predict-future-student-behavior/"
   ]
  },
  {
   "cell_type": "markdown",
   "metadata": {
    "slideshow": {
     "slide_type": "slide"
    }
   },
   "source": [
    "#With four parameters I can fit an elephant and with five I can make him wiggle his trunk.\n",
    "## -- John von Neumann"
   ]
  },
  {
   "cell_type": "markdown",
   "metadata": {
    "slideshow": {
     "slide_type": "slide"
    }
   },
   "source": [
    "# 什麼是回測過度最佳化？\n",
    "* 想想看，\n",
    "有這樣一個“明星”投資分析師，他給他10240位（=10*2^10）潛在客戶們宣傳他對股票ABC的投資建議。對其中一半客戶，他建議買入股票ABC，對另一半客戶，他建議賣出。一個月後，這位投資分析師再對其中5120位盈利的客戶繼續宣傳他對股票ABC的投資建議。如同上個月，他對其中一半客戶建議買入，對另一半客戶，他建議賣出。如此往復10個月，有這麼10位客戶對他佩服的五體投地，因為他們已經連續盈利10個月了！可是他們不知道這位“明星”投資分析師做了多少失敗的投資建議。\n",
    "* 這是典型的回測過程中的過度擬合問題：只要回測的次數足夠多，我們總能找到令人滿意的結果。"
   ]
  },
  {
   "cell_type": "markdown",
   "metadata": {
    "slideshow": {
     "slide_type": "slide"
    }
   },
   "source": [
    "# 過度最佳化的交易策略會讓你賠錢！\n",
    "<img src=\"fig/is_backtest_overfitting_looklike.jpg\" height=430>\n",
    "<img src=\"fig/oos_backtest_overfitting_looklike.jpg\" height=430>"
   ]
  },
  {
   "cell_type": "markdown",
   "metadata": {
    "slideshow": {
     "slide_type": "slide"
    }
   },
   "source": [
    "# 如何檢查回測過度最佳化？\n",
    "* 取樣期間要均勻\n",
    "<img src=\"fig/twse_index.png\">"
   ]
  },
  {
   "cell_type": "markdown",
   "metadata": {
    "slideshow": {
     "slide_type": "slide"
    }
   },
   "source": [
    "# 如何檢查回測過度最佳化？\n",
    "* 參數穩定性檢查\n",
    "<img src=\"fig/contour.jpg\" width=430>\n",
    "reference:http://pic.pimg.tw/wenschair/1342544038-2503252194_n.jpg?v=1342544039"
   ]
  },
  {
   "cell_type": "markdown",
   "metadata": {
    "slideshow": {
     "slide_type": "slide"
    }
   },
   "source": [
    "# 如何檢查回測過度最佳化？\n",
    "* 向前推進法 (walk forward analysis)\n",
    "* 時空環境改變，參數並非固定不變，需要漸進式找解\n",
    "* [R] <a href=\"https://4310b1a9-a-a8fb2076-s-sites.googlegroups.com/a/r-programming.org/home/files/WFA.pdf?attachauth=ANoY7cq2HO7ybe_0Di16hD-81xL8KslepAcDXvcmRpjp_i824dXxNRFIhv_K-cjYBfMF31ThLsOjX3B8qarLlN94mIfrITthsCyCDubdvNpWt5DAT48nG53N8DyE1mhfEAwN6jjOnzckoZU95GDAB-eK0n2g7ZPqWXPmHZLdmObKsdbslHCFlSVT5-Lkm0ueCN8iHNa8qw8truW0KBFsckIuluoOZtCfUQ%3D%3D&attredirects=0\">quandstrat:: walk.forward</a>\n",
    "<img src='fig/wfa.jpg' width=430>"
   ]
  },
  {
   "cell_type": "markdown",
   "metadata": {
    "slideshow": {
     "slide_type": "slide"
    }
   },
   "source": [
    "# 如何檢查回測過度最佳化？\n",
    "* Hold-out 法\n",
    "* 將資料分成 training data + testing data\n",
    "* 比較 training data 的績效，是否與 testing data 差距很大"
   ]
  },
  {
   "cell_type": "markdown",
   "metadata": {
    "slideshow": {
     "slide_type": "slide"
    }
   },
   "source": [
    "# 如何檢查回測過度最佳化？\n",
    "* 估計回測過度最佳化的機率\n",
    "* 參考文獻：\n",
    "    <a href=\"http://dx.doi.org/10.2139/ssrn.2326253 \">Reference Bailey, David H. and Borwein, Jonathan M. and Lopez de Prado, Marcos and Zhu, Qiji Jim, The Probability of Backtest Overfitting (February 27, 2015). Journal of Computational Finance (Risk Journals), 2015, Forthcoming.</a>\n",
    "* <a href=\"http://www.rinfinance.com/RinFinance2014/agenda/\">R Finance conference 2014</a> 的講題\n",
    "* 非常直覺簡單，很容易應用在不同類型策略上"
   ]
  },
  {
   "cell_type": "markdown",
   "metadata": {
    "slideshow": {
     "slide_type": "slide"
    }
   },
   "source": [
    "# 直覺\n",
    "* 若沒有回測過度最佳化，In-sample 與 out-of-sample 之間的應有線性關係\n",
    "* 若有回測過度最佳化，In-sample 與 out-of-sample 之間的績效天嚷知別\n",
    "\n",
    "\n",
    "# Definition of Backtest Overfitting in short\n",
    "* the optimal IS strategy is worse than 50% strategy when OOS\n",
    "* rank(optimal in-sample strategy) < N2 when evaluate out-of-sample\n"
   ]
  },
  {
   "cell_type": "markdown",
   "metadata": {
    "slideshow": {
     "slide_type": "slide"
    }
   },
   "source": [
    "# Combinational Symmetric Cross Validation 方法 (CSCV)\n",
    "1. Collect a matrix M of profit & loss time series for each strategy\n",
    "2. Split M into S disjoint submatrices\n",
    "    for example, Ms in [M1, M2, M3, M4] if S=4\n",
    "3. Generate all combination Cs from Ms\n",
    "    for example\n",
    "    training sets = [M1 + M2 , M1 +M3, M1 + M4, ...] (in-sample)\n",
    "    testing sets = [M3 + M4 , M2 +M4, M2 + M3, ...] (out-of-sample)\n",
    "    Each c in Cs,\n",
    "    compute in-sample & out-of-sample performance\n",
    "4. find the optimal in-sample strategy, and its corresponding out-of-sample performance\n",
    "5. get the relative rank roos among all the out-of-sample performance\n",
    "6. compute the logit λc = ln(roos1−rbar )\n",
    "7. compute the probability of backtest overfitting\n",
    "8. PBO = #(λc<0)#(λc)\n",
    "    hypothesis test\n",
    "    H0: the strategy selection process is overfitting\n",
    "    λc ~ asymtopic Normal distribution\n",
    "    PBO < 0.05, reject the H0"
   ]
  },
  {
   "cell_type": "markdown",
   "metadata": {},
   "source": [
    "# 範例\n",
    "* https://github.com/exilespacer/ProbabilityOfBacktestOverfitting/blob/master/CSCV.ipynb"
   ]
  },
  {
   "cell_type": "code",
   "execution_count": null,
   "metadata": {
    "collapsed": true
   },
   "outputs": [],
   "source": []
  }
 ],
 "metadata": {
  "celltoolbar": "Slideshow",
  "kernelspec": {
   "display_name": "R",
   "language": "R",
   "name": "ir"
  },
  "language_info": {
   "codemirror_mode": "r",
   "file_extension": ".r",
   "mimetype": "text/x-r-source",
   "name": "R",
   "pygments_lexer": "r",
   "version": "3.1.2"
  }
 },
 "nbformat": 4,
 "nbformat_minor": 0
}
