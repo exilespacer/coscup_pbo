{
 "cells": [
  {
   "cell_type": "markdown",
   "metadata": {
    "slideshow": {
     "slide_type": "slide"
    }
   },
   "source": [
    "# Million ways to avoid backtest overfitting：\n",
    "## 如何避免回測過度最佳化\n",
    "\n",
    "* Aug. 2015 @ COSCUP 2015\n",
    "* C.Y. Yen\n",
    "* yen.chiayi@gmail.com"
   ]
  },
  {
   "cell_type": "markdown",
   "metadata": {
    "slideshow": {
     "slide_type": "slide"
    }
   },
   "source": [
    "# Hi, 我是 Yen ;)\n",
    "* 疑，日元？\n",
    "* Python & R user\n",
    "* 工作涵蓋\n",
    "    * 多因子交易模型的建構\n",
    "    * 資料 Extract-Transform-Load\n",
    "    * 機器學習 以及各種數值分析\n",
    "\n",
    "--\n",
    "* 熱衷於參與 open source 社群活動，特別是與 Python 或 R 有關的活動\n",
    "* 是 <a href=\"https://www.facebook.com/groups/twrladies/?fref=ts\">TW R-Ladies</a> 的發起人之一，每個月最後一個周一聚會"
   ]
  },
  {
   "cell_type": "markdown",
   "metadata": {
    "slideshow": {
     "slide_type": "slide"
    }
   },
   "source": [
    "# 因為這是個開源的場合，至少要提供一些開源的東西吧！\n",
    "* 介紹一些開源的交易資料\n",
    "* 介紹一些開源的回測平台\n",
    "* 介紹一些開源的相關分析工具\n"
   ]
  },
  {
   "cell_type": "markdown",
   "metadata": {
    "slideshow": {
     "slide_type": "slide"
    }
   },
   "source": [
    "# 今天聊什麼？\n",
    "### 顧名思義，一定要跟「回測」還有「過度最佳化」有關係吧~ 幾個關鍵字...\n",
    "1. <a href=\"http://nbviewer.ipython.org/format/slides/github/exilespacer/coscup_pbo/blob/master/1_trade.ipynb#/\">交易</a>\n",
    "2. <a href=\"http://nbviewer.ipython.org/format/slides/github/exilespacer/coscup_pbo/blob/master/2_backtest.ipynb#/\">歷史回測</a>\n",
    "3. <a href=\"http://nbviewer.ipython.org/format/slides/github/exilespacer/coscup_pbo/blob/master/3_overfitting.i\">過度最佳化</a>"
   ]
  },
  {
   "cell_type": "markdown",
   "metadata": {
    "slideshow": {
     "slide_type": "slide"
    }
   },
   "source": [
    "Thank you for your attention ：）"
   ]
  }
 ],
 "metadata": {
  "celltoolbar": "Slideshow",
  "kernelspec": {
   "display_name": "R",
   "language": "R",
   "name": "ir"
  },
  "language_info": {
   "codemirror_mode": "r",
   "file_extension": ".r",
   "mimetype": "text/x-r-source",
   "name": "R",
   "pygments_lexer": "r",
   "version": "3.1.2"
  }
 },
 "nbformat": 4,
 "nbformat_minor": 0
}
